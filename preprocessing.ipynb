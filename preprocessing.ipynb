{
 "cells": [
  {
   "cell_type": "markdown",
   "metadata": {},
   "source": [
    "Allow libraries to change without having to restart kernel"
   ]
  },
  {
   "cell_type": "code",
   "execution_count": null,
   "metadata": {},
   "outputs": [],
   "source": [
    "%reload_ext autoreload\n",
    "%autoreload 2"
   ]
  },
  {
   "cell_type": "code",
   "execution_count": null,
   "metadata": {},
   "outputs": [],
   "source": [
    "import pandas as pd\n",
    "import pickle as pk\n",
    "import networkx as nx\n",
    "import numpy as np\n",
    "import hypergraphx as hgx\n",
    "from tqdm import tqdm\n",
    "from utils_preprocessing import *\n",
    "\n",
    "import os"
   ]
  },
  {
   "cell_type": "code",
   "execution_count": null,
   "metadata": {},
   "outputs": [],
   "source": [
    "ROOT = 'put_your_personal_root_here/{ds}'"
   ]
  },
  {
   "cell_type": "markdown",
   "metadata": {},
   "source": [
    "## Creating Temporal Higher-Order Networks"
   ]
  },
  {
   "cell_type": "markdown",
   "metadata": {},
   "source": [
    "### Baboons"
   ]
  },
  {
   "cell_type": "code",
   "execution_count": null,
   "metadata": {},
   "outputs": [],
   "source": [
    "ds = 'babboons'\n",
    "root = ROOT.format(ds=ds)\n",
    "\n",
    "create_babboons_TN(root=root)"
   ]
  },
  {
   "cell_type": "markdown",
   "metadata": {},
   "source": [
    "### Congress Bills"
   ]
  },
  {
   "cell_type": "code",
   "execution_count": null,
   "metadata": {},
   "outputs": [],
   "source": [
    "ds = \"congress-bills\"\n",
    "root = ROOT.format(ds=ds)\n",
    "create_congress_bills_TN(root=root)"
   ]
  },
  {
   "cell_type": "markdown",
   "metadata": {},
   "source": [
    "### Copenhagen"
   ]
  },
  {
   "cell_type": "code",
   "execution_count": null,
   "metadata": {},
   "outputs": [],
   "source": [
    "ds = \"Copenhagen\"\n",
    "create_Copenhagen_TN(root=ROOT.format(ds=ds))"
   ]
  },
  {
   "cell_type": "markdown",
   "metadata": {},
   "source": [
    "### Friends & Family"
   ]
  },
  {
   "cell_type": "code",
   "execution_count": null,
   "metadata": {},
   "outputs": [],
   "source": [
    "ds = 'FnF'\n",
    "root = ROOT.format(ds=ds)\n",
    "create_FnF_TN(root=root)"
   ]
  },
  {
   "cell_type": "markdown",
   "metadata": {},
   "source": [
    "### High Schools (HS11, HS12)"
   ]
  },
  {
   "cell_type": "code",
   "execution_count": null,
   "metadata": {},
   "outputs": [],
   "source": [
    "ds = 'HS11'\n",
    "root = ROOT.format(ds=ds)\n",
    "create_HS1X_TN(ds=ds, root=root, bin_size=200)\n",
    "\n",
    "ds = 'HS12'\n",
    "root = ROOT.format(ds=ds)\n",
    "create_HS1X_TN(ds=ds, root=root, bin_size=200)\n"
   ]
  },
  {
   "cell_type": "code",
   "execution_count": null,
   "metadata": {},
   "outputs": [],
   "source": [
    "ds = 'Malawi'\n",
    "root = ROOT.format(ds=ds)\n",
    "bin_size = 1000\n",
    "\n",
    "create_malawi_TN(root=root, bin_size=bin_size)"
   ]
  },
  {
   "cell_type": "markdown",
   "metadata": {},
   "source": [
    "### Kenyan"
   ]
  },
  {
   "cell_type": "code",
   "execution_count": null,
   "metadata": {},
   "outputs": [],
   "source": [
    "ds = \"Kenyan\"\n",
    "root = ROOT.format(ds)\n",
    "create_Kenyan_TN(root=root, ds=ds)\n"
   ]
  },
  {
   "cell_type": "markdown",
   "metadata": {},
   "source": [
    "### InVS13 & InVS15 (Workplaces, Sociopatterns)"
   ]
  },
  {
   "cell_type": "code",
   "execution_count": null,
   "metadata": {},
   "outputs": [],
   "source": [
    "ds = \"InVS13\"\n",
    "root = ROOT.format(ds)\n",
    "create_InVS_TN(ds=ds, root=root)\n",
    "\n",
    "ds = \"InVS15\"\n",
    "root = ROOT.format(ds)\n",
    "create_InVS_TN(ds=ds, root=root)"
   ]
  },
  {
   "cell_type": "markdown",
   "metadata": {},
   "source": [
    "### Sociopatterns (SFHH & LH10 & Thiers13)"
   ]
  },
  {
   "cell_type": "code",
   "execution_count": null,
   "metadata": {},
   "outputs": [],
   "source": [
    "for ds in ['SFHH', 'LyonSchool', 'Thiers13']:\n",
    "    print(f\"Dataset = {ds}\")\n",
    "    root = ROOT.format(ds=ds)\n",
    "    create_Sociopatterns_TN(root=root, ds=ds)\n"
   ]
  },
  {
   "cell_type": "markdown",
   "metadata": {},
   "source": [
    "### Utah Schools (Elem1 & Mid1)"
   ]
  },
  {
   "cell_type": "code",
   "execution_count": null,
   "metadata": {},
   "outputs": [],
   "source": [
    "ds = 'Mid1'\n",
    "root = ROOT.format(ds=ds)\n",
    "create_Utah_TN(root=root, ds=ds)"
   ]
  },
  {
   "cell_type": "code",
   "execution_count": null,
   "metadata": {},
   "outputs": [],
   "source": [
    "ds = 'Elem1'\n",
    "root = ROOT.format(ds=ds)\n",
    "create_Utah_TN(root=root, ds=ds)"
   ]
  },
  {
   "cell_type": "markdown",
   "metadata": {},
   "source": [
    "## Creating Static Networks\n",
    "\n",
    "Now discard all temporal information and make a static graph for each dataset"
   ]
  },
  {
   "cell_type": "code",
   "execution_count": null,
   "metadata": {},
   "outputs": [],
   "source": [
    "root = ROOT\n",
    "DATASETS = sorted(os.listdir(root))\n",
    "DATASETS = sorted([el for el in DATASETS if '.' not in el and 'ptho' not in el and 'non-temporal' not in el and '__' not in el])\n",
    "print(len(DATASETS))\n",
    "print(DATASETS)"
   ]
  },
  {
   "cell_type": "code",
   "execution_count": null,
   "metadata": {},
   "outputs": [],
   "source": [
    "for i, dataset in enumerate(DATASETS):\n",
    "    if not os.path.isfile(f\"{root}/{dataset}/processed/STATIC_{dataset}.pck\"):\n",
    "        fname = f'{root}/{dataset}/TS_{dataset}.pck'\n",
    "        TN = pk.load(open(fname, 'rb'))\n",
    "        elist = set([frozenset(e) for h in TN.values()  for e in h.get_edges()])\n",
    "        elist = [list(e) for e in elist]\n",
    "        sorted(elist, key=len, reverse=True)\n",
    "        H = hgx.Hypergraph(edge_list=elist)\n",
    "        # print(H)\n",
    "\n",
    "        fname = f\"{root}/{dataset}/processed/STATIC_{dataset}.pck\"\n",
    "        pk.dump(H, open(fname, 'wb'), protocol=-1)\n",
    "        print(f\"{i+1}. Saved for {dataset}\")\n",
    "    else:\n",
    "        print(f\"{i+1}. Already saved for {dataset}\")"
   ]
  },
  {
   "cell_type": "code",
   "execution_count": null,
   "metadata": {},
   "outputs": [],
   "source": []
  }
 ],
 "metadata": {
  "kernelspec": {
   "display_name": "ptho",
   "language": "python",
   "name": "python3"
  },
  "language_info": {
   "codemirror_mode": {
    "name": "ipython",
    "version": 3
   },
   "file_extension": ".py",
   "mimetype": "text/x-python",
   "name": "python",
   "nbconvert_exporter": "python",
   "pygments_lexer": "ipython3",
   "version": "3.12.7"
  }
 },
 "nbformat": 4,
 "nbformat_minor": 2
}
